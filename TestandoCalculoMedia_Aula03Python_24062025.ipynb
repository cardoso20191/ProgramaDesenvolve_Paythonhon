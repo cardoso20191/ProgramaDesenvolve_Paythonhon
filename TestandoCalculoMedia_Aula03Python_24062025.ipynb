{
  "nbformat": 4,
  "nbformat_minor": 0,
  "metadata": {
    "colab": {
      "provenance": [],
      "authorship_tag": "ABX9TyPe9kkQ5Bz5nnmRoBuzVWZ0",
      "include_colab_link": true
    },
    "kernelspec": {
      "name": "python3",
      "display_name": "Python 3"
    },
    "language_info": {
      "name": "python"
    }
  },
  "cells": [
    {
      "cell_type": "markdown",
      "metadata": {
        "id": "view-in-github",
        "colab_type": "text"
      },
      "source": [
        "<a href=\"https://colab.research.google.com/github/cardoso20191/ProgramaDesenvolve_Paythonhon/blob/main/TestandoCalculoMedia_Aula03Python_24062025.ipynb\" target=\"_parent\"><img src=\"https://colab.research.google.com/assets/colab-badge.svg\" alt=\"Open In Colab\"/></a>"
      ]
    },
    {
      "cell_type": "code",
      "execution_count": 4,
      "metadata": {
        "colab": {
          "base_uri": "https://localhost:8080/"
        },
        "id": "cv-VDdJdQNZx",
        "outputId": "a114dc77-5d12-41a3-a63d-43acddf7a4fa"
      },
      "outputs": [
        {
          "output_type": "stream",
          "name": "stdout",
          "text": [
            "Digite a nota 1: 9\n",
            "Digite a nota : 9\n",
            "Digite a nota 3: 9\n",
            "Aprovado 9.0\n"
          ]
        }
      ],
      "source": [
        "nota1 = float(input(\"Digite a nota 1: \"))\n",
        "nota2 = float(input(\"Digite a nota : \"))\n",
        "nota3 = float(input(\"Digite a nota 3: \"))\n",
        "\n",
        "#Teste calculo de mécia com entrada de dados\n",
        "media = (nota1 + nota2 + nota3) / 3\n",
        "\n",
        "if media >=9:\n",
        "  print(\"Aprovado\", media)\n",
        "elif media >=5:\n",
        "  print(\"Recuperação\", media)\n",
        "else:\n",
        "  print(\"Reprovado\", media)\n",
        "\n"
      ]
    }
  ]
}