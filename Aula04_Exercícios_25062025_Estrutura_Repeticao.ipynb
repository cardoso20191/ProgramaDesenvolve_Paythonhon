{
  "nbformat": 4,
  "nbformat_minor": 0,
  "metadata": {
    "colab": {
      "provenance": [],
      "include_colab_link": true
    },
    "kernelspec": {
      "name": "python3",
      "display_name": "Python 3"
    },
    "language_info": {
      "name": "python"
    }
  },
  "cells": [
    {
      "cell_type": "markdown",
      "metadata": {
        "id": "view-in-github",
        "colab_type": "text"
      },
      "source": [
        "<a href=\"https://colab.research.google.com/github/cardoso20191/ProgramaDesenvolve_Paythonhon/blob/main/Aula04_Exerc%C3%ADcios_25062025_Estrutura_Repeticao.ipynb\" target=\"_parent\"><img src=\"https://colab.research.google.com/assets/colab-badge.svg\" alt=\"Open In Colab\"/></a>"
      ]
    },
    {
      "cell_type": "markdown",
      "source": [
        "## **Exercício 1 – Lendo e Somando Números com for**\n",
        "\n",
        "Peça para o usuário digitar 5 números inteiros, um por vez, e use um loop **for** para somar todos eles. Ao final, mostre a soma.\n",
        "\n",
        "### Dica: use o comando input() dentro do loop e converta para int."
      ],
      "metadata": {
        "id": "jnl2d3MIIJ22"
      }
    },
    {
      "cell_type": "code",
      "source": [
        "soma = 0\n",
        "\n",
        "for i in range(5):\n",
        "    numero = int(input(f\"Digite um número inteiro: \"))\n",
        "    soma += numero\n",
        "\n",
        "print(f\"A soma dos 5 números é: {soma}\")"
      ],
      "metadata": {
        "colab": {
          "base_uri": "https://localhost:8080/"
        },
        "id": "_1FM4yCqlEnF",
        "outputId": "58e474b3-9cd4-4325-8fed-f93535c42bda"
      },
      "execution_count": 11,
      "outputs": [
        {
          "output_type": "stream",
          "name": "stdout",
          "text": [
            "Digite um número inteiro: 5\n",
            "Digite um número inteiro: 7\n",
            "Digite um número inteiro: 8\n",
            "Digite um número inteiro: 9\n",
            "Digite um número inteiro: 6\n",
            "A soma dos 5 números é: 35\n"
          ]
        }
      ]
    },
    {
      "cell_type": "markdown",
      "source": [
        "## **Exercício 2 – Contando ocorrências em uma lista**\n",
        "\n",
        "Dada a lista abaixo:\n",
        "\n",
        "```python\n",
        "animais = [\"gato\", \"cachorro\", \"pássaro\", \"gato\", \"gato\", \"cachorro\"]\n",
        "```\n",
        "\n",
        "Use um loop **for** para contar quantas vezes o animal \"gato\" aparece na lista. Mostre o resultado."
      ],
      "metadata": {
        "id": "vuKPF5AmIPZT"
      }
    },
    {
      "cell_type": "code",
      "source": [
        "animais = [\"gato\", \"cachorro\", \"pássaro\", \"gato\", \"gato\", \"cachorro\"]\n",
        "contador = 0\n",
        "\n",
        "for animal in animais:\n",
        "    if animal == \"gato\":\n",
        "        contador += 1\n",
        "\n",
        "print(f'O animal \"gato\" aparece {contador} vezes na lista.')"
      ],
      "metadata": {
        "colab": {
          "base_uri": "https://localhost:8080/"
        },
        "id": "Pj9M6X5MlcKq",
        "outputId": "7728b31d-7563-49c0-d9c3-29ed2ecbc4a5"
      },
      "execution_count": 2,
      "outputs": [
        {
          "output_type": "stream",
          "name": "stdout",
          "text": [
            "O animal \"gato\" aparece 3 vezes na lista.\n"
          ]
        }
      ]
    },
    {
      "cell_type": "markdown",
      "source": [
        "## **Exercício 3 – Iterando com range**\n",
        "\n",
        "Use um loop **for** com **range()** para exibir todos os números de 1 a 10 (inclusive)."
      ],
      "metadata": {
        "id": "iJn5X56UITKW"
      }
    },
    {
      "cell_type": "code",
      "source": [
        "for i in range(1, 11):\n",
        "    print(i)"
      ],
      "metadata": {
        "colab": {
          "base_uri": "https://localhost:8080/"
        },
        "id": "NLZMCGDAluj2",
        "outputId": "4abdc416-ee85-425e-96fa-f7e6f02c8f47"
      },
      "execution_count": 3,
      "outputs": [
        {
          "output_type": "stream",
          "name": "stdout",
          "text": [
            "1\n",
            "2\n",
            "3\n",
            "4\n",
            "5\n",
            "6\n",
            "7\n",
            "8\n",
            "9\n",
            "10\n"
          ]
        }
      ]
    },
    {
      "cell_type": "markdown",
      "source": [
        "## **Exercício 4 – While: adivinhação simples**\n",
        "\n",
        "Implemente um jogo simples onde o usuário deve adivinhar um número secreto (por exemplo, 7).\n",
        "\n",
        "Enquanto o usuário não acertar, o programa deve continuar perguntando por um valor.\n",
        "\n",
        "### Dica: use um loop while e peça ao usuário digitar até acertar."
      ],
      "metadata": {
        "id": "OldasDUuIWO8"
      }
    },
    {
      "cell_type": "code",
      "source": [
        "#numero_secreto = 4\n",
        "palpite = None  # inicializa com um valor diferente do número secreto\n",
        "\n",
        "while palpite != 4:\n",
        "    palpite = int(input(\"Adivinhe o número secreto (entre 1 e 10): \"))\n",
        "\n",
        "    if palpite == 4:\n",
        "        print(\"Parabéns! Você acertou!\")\n",
        "    else:\n",
        "        print(\"Errado! Tente novamente.\")"
      ],
      "metadata": {
        "colab": {
          "base_uri": "https://localhost:8080/"
        },
        "id": "AWfQa7Drl48G",
        "outputId": "c19bb2e9-741f-4d80-d8d7-9a6ef9066346"
      },
      "execution_count": 8,
      "outputs": [
        {
          "output_type": "stream",
          "name": "stdout",
          "text": [
            "Adivinhe o número secreto (entre 1 e 10): 5\n",
            "Errado! Tente novamente.\n",
            "Adivinhe o número secreto (entre 1 e 10): 7\n",
            "Errado! Tente novamente.\n",
            "Adivinhe o número secreto (entre 1 e 10): 6\n",
            "Errado! Tente novamente.\n",
            "Adivinhe o número secreto (entre 1 e 10): 4\n",
            "Parabéns! Você acertou!\n"
          ]
        }
      ]
    },
    {
      "cell_type": "markdown",
      "source": [
        "## **Exercício 5 – Iterando sobre listas: exibir nomes**\n",
        "\n",
        "Dada a lista de nomes abaixo:\n",
        "\n",
        "```python\n",
        "nomes = [\"Ana\", \"Carlos\", \"Bianca\", \"João\"]\n",
        "```\n",
        "\n",
        "Use um loop **for** para exibir cada nome da lista, um por linha."
      ],
      "metadata": {
        "id": "cjwTfJeUIaF4"
      }
    },
    {
      "cell_type": "code",
      "source": [
        "nomes = [\"Ana\", \"Carlos\", \"Bianca\", \"João\"]\n",
        "\n",
        "for nome in nomes:\n",
        "    print(nome)"
      ],
      "metadata": {
        "colab": {
          "base_uri": "https://localhost:8080/"
        },
        "id": "7ZQnPAVQmJ_f",
        "outputId": "b478b58e-3582-4056-d942-baaa3af6af13"
      },
      "execution_count": 5,
      "outputs": [
        {
          "output_type": "stream",
          "name": "stdout",
          "text": [
            "Ana\n",
            "Carlos\n",
            "Bianca\n",
            "João\n"
          ]
        }
      ]
    },
    {
      "cell_type": "markdown",
      "source": [
        "## **Exercício 6 – While com índice (opcional)**\n",
        "\n",
        "Usando código, percorra a lista de nomes do exercício anterior, mas desta vez usando um loop **while** e um índice. Exiba o nome e seu número de ordem (ex: \"1 - Ana\", \"2 - Carlos\", etc)."
      ],
      "metadata": {
        "id": "3W2rMqyzIeIF"
      }
    },
    {
      "cell_type": "code",
      "source": [
        "nomes = [\"Ana\", \"Carlos\", \"Bianca\", \"João\"]\n",
        "indice = 0\n",
        "\n",
        "while indice < len(nomes):\n",
        "    print(f\"{indice + 1} - {nomes[indice]}\")\n",
        "    indice += 1"
      ],
      "metadata": {
        "colab": {
          "base_uri": "https://localhost:8080/"
        },
        "id": "pG8QiodymYPY",
        "outputId": "5537ae9f-a3bd-4353-bc71-db1fa89caa23"
      },
      "execution_count": 6,
      "outputs": [
        {
          "output_type": "stream",
          "name": "stdout",
          "text": [
            "1 - Ana\n",
            "2 - Carlos\n",
            "3 - Bianca\n",
            "4 - João\n"
          ]
        }
      ]
    }
  ]
}