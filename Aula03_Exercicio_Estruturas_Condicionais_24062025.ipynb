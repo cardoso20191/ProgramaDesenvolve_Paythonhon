{
  "nbformat": 4,
  "nbformat_minor": 0,
  "metadata": {
    "colab": {
      "provenance": [],
      "include_colab_link": true
    },
    "kernelspec": {
      "name": "python3",
      "display_name": "Python 3"
    },
    "language_info": {
      "name": "python"
    }
  },
  "cells": [
    {
      "cell_type": "markdown",
      "metadata": {
        "id": "view-in-github",
        "colab_type": "text"
      },
      "source": [
        "<a href=\"https://colab.research.google.com/github/cardoso20191/ProgramaDesenvolve_Paythonhon/blob/main/Aula03_Exercicio_Estruturas_Condicionais_24062025.ipynb\" target=\"_parent\"><img src=\"https://colab.research.google.com/assets/colab-badge.svg\" alt=\"Open In Colab\"/></a>"
      ]
    },
    {
      "cell_type": "markdown",
      "source": [
        "## **Exercício 1 – Identificando Blocos e Indentação**\n",
        "\n",
        "Observe o código abaixo:\n",
        "\n",
        "```python\n",
        "idade = 15\n",
        "\n",
        "if idade >= 18:\n",
        "    print(\"Pode entrar na festa\")\n",
        "else:\n",
        "print(\"Entrada não permitida\")\n",
        "```\n",
        "\n",
        "**a) O que está errado:**\n",
        "R. A Identação do print do Else\n",
        "\n",
        "**b) Indentação correta:**\n",
        "R. else:\n",
        "  print(\"Entrada não permitida\")"
      ],
      "metadata": {
        "id": "AKTnACRi5mQj"
      }
    },
    {
      "cell_type": "code",
      "source": [
        "idade = 15\n",
        "\n",
        "if idade >= 18:\n",
        "    print(\"Pode entrar na festa\")\n",
        "else:\n",
        "  print(\"Entrada não permitida\")"
      ],
      "metadata": {
        "colab": {
          "base_uri": "https://localhost:8080/"
        },
        "id": "F43G9RU3e5Aq",
        "outputId": "cc0e4f09-3c9c-47fb-b7d9-ece224daf8ff"
      },
      "execution_count": 2,
      "outputs": [
        {
          "output_type": "stream",
          "name": "stdout",
          "text": [
            "Entrada não permitida\n"
          ]
        }
      ]
    },
    {
      "cell_type": "markdown",
      "source": [
        "## **Exercício 2 – If, Else e Elif na Prática**\n",
        "\n",
        "### Complete o código para que ele classifique a nota de um aluno conforme o seguinte critério:\n",
        "\n",
        "- Nota menor que 6: \"Reprovado\"\n",
        "- Nota entre 6 e 7, inclusive: \"Recuperação\"\n",
        "- Nota maior que 7: \"Aprovado\"\n",
        "\n",
        "```python\n",
        "nota = float(input(\"Digite a nota: \"))\n",
        "\n",
        "if ___________________________:\n",
        "    print(\"Reprovado\")\n",
        "elif _________________________:\n",
        "    print(\"Recuperação\")\n",
        "else:\n",
        "    print(\"Aprovado\")\n",
        "```"
      ],
      "metadata": {
        "id": "5IoJXDP75vAp"
      }
    },
    {
      "cell_type": "code",
      "source": [
        "nota = float(input(\"Digite a nota: \"))\n",
        "\n",
        "if nota < 6:\n",
        "    print(\"Reprovado\")\n",
        "elif nota >=6 and nota <=7:\n",
        "    print(\"Recuperação\")\n",
        "else:\n",
        "    print(\"Aprovado\")"
      ],
      "metadata": {
        "colab": {
          "base_uri": "https://localhost:8080/"
        },
        "id": "B_YyJSkRfbvs",
        "outputId": "589a5f09-618c-4734-ab36-73bc96975d6a"
      },
      "execution_count": 31,
      "outputs": [
        {
          "output_type": "stream",
          "name": "stdout",
          "text": [
            "Digite a nota: 5\n",
            "Reprovado\n"
          ]
        }
      ]
    },
    {
      "cell_type": "markdown",
      "source": [
        "## Exercício 3 – Operadores Lógicos\n",
        "\n",
        "Dado o código:\n",
        "\n",
        "```python\n",
        "idade = 25\n",
        "tem_carteira = True\n",
        "\n",
        "if idade >= 18 and tem_carteira:\n",
        "    print(\"Pode dirigir\")\n",
        "else:\n",
        "    print(\"Não pode dirigir\")\n",
        "```\n",
        "\n",
        "a) O que será impresso se a idade for 16 e tem_carteira for True? Não pode dirigir\n",
        "\n",
        "b) E se idade for 30 e tem_carteira for False? Não pode dirigir\n",
        "\n",
        "c) O que aconteceria se usássemos or invés de and no if? no item a) pode dirigir e no item b) Pode dirigir"
      ],
      "metadata": {
        "id": "Pg8hdCL054PO"
      }
    },
    {
      "cell_type": "code",
      "source": [
        "idade = 30\n",
        "tem_carteira = False\n",
        "\n",
        "if idade >= 18 or tem_carteira:\n",
        "    print(\"Pode dirigir\")\n",
        "else:\n",
        "    print(\"Não pode dirigir\")"
      ],
      "metadata": {
        "colab": {
          "base_uri": "https://localhost:8080/"
        },
        "id": "5fZFGg6Rgmrk",
        "outputId": "c8e157de-6102-4052-c8a6-64193fbe62ea"
      },
      "execution_count": 19,
      "outputs": [
        {
          "output_type": "stream",
          "name": "stdout",
          "text": [
            "Pode dirigir\n"
          ]
        }
      ]
    },
    {
      "cell_type": "markdown",
      "source": [
        "## **Exercício 4 – O operador in**\n",
        "\n",
        "Considere a lista de cidades abaixo:\n",
        "\n",
        "```python\n",
        "cidades = [\"Recife\", \"Maceió\", \"Natal\"]\n",
        "cidade_usuario = input(\"Digite o nome da sua cidade: \")\n",
        "```\n",
        "\n",
        "a) Escreva um if para exibir \"Cidade atendida\" se a cidade informada estiver na lista e \"Cidade não atendida\" caso contrário."
      ],
      "metadata": {
        "id": "SJQOXi_I5-Pr"
      }
    },
    {
      "cell_type": "code",
      "source": [
        "cidades = [\"Recife\", \"Maceió\", \"Natal\"]\n",
        "cidade_usuario = input(\"Digite o nome da sua cidade: \")\n",
        "\n",
        "if cidade_usuario in cidades:\n",
        "  print(\"Cidade atendida\")\n",
        "else:\n",
        "  print(\"Cidade não atendida\")"
      ],
      "metadata": {
        "colab": {
          "base_uri": "https://localhost:8080/"
        },
        "id": "FyzzuFHEhn9R",
        "outputId": "a3d62ab5-a07b-46a7-cf2b-5df97353b9c7"
      },
      "execution_count": 22,
      "outputs": [
        {
          "output_type": "stream",
          "name": "stdout",
          "text": [
            "Digite o nome da sua cidade: Natal\n",
            "Cidade atendida\n"
          ]
        }
      ]
    },
    {
      "cell_type": "markdown",
      "source": [
        "## **Exercício 5 – Depurando/Debugging**\n",
        "\n",
        "O código abaixo deveria avisar se um nome contém a letra \"a\". No entanto, não funciona como esperado para alguns nomes. Identifique o erro e corrija:\n",
        "\n",
        "```python\n",
        "nome = input(\"Digite um nome: \")\n",
        "if \"a\" in nome:\n",
        "    print(\"O nome contém a letra a\")\n",
        "else:\n",
        "    print(\"O nome não contém a letra a\")\n",
        "```\n",
        "\n",
        "a) Teste com o nome \"ANA\". O que acontece? O nome não contém a letra a, isso ocorre devido o nome \"ANA\" ser informado em caixa alta e estamos buscando em caixa baixa\n",
        "\n",
        "b) Como corrigir para funcionar independentemente de maiúsculas/minúsculas? utilizei um or no if,não sei se está certo mais tentei..."
      ],
      "metadata": {
        "id": "Nw2tQXyS6F2N"
      }
    },
    {
      "cell_type": "code",
      "source": [
        "nome = input(\"Digite um nome: \")\n",
        "#if \"a\" or \"A\" in nome:\n",
        "if \"a\" in nome.lower():\n",
        "    print(\"O nome contém a letra a\")\n",
        "else:\n",
        "    print(\"O nome não contém a letra a\")"
      ],
      "metadata": {
        "colab": {
          "base_uri": "https://localhost:8080/"
        },
        "id": "-PfWTU8YiZjz",
        "outputId": "926b1f9b-42dc-4eef-ae1a-e7403f442e1c"
      },
      "execution_count": 33,
      "outputs": [
        {
          "output_type": "stream",
          "name": "stdout",
          "text": [
            "Digite um nome: AnA\n",
            "O nome contém a letra a\n"
          ]
        }
      ]
    },
    {
      "cell_type": "markdown",
      "source": [
        "## **Exercício 6 – Expressão Ternária**\n",
        "\n",
        "Reescreva o if-else abaixo em uma linha usando expressão ternária:\n",
        "\n",
        "```python\n",
        "idade = 20\n",
        "if idade >= 18:\n",
        "    status = \"maior de idade\"\n",
        "else:\n",
        "    status = \"menor de idade\"\n",
        "    \n",
        "```"
      ],
      "metadata": {
        "id": "OLL2785s6PMX"
      }
    },
    {
      "cell_type": "code",
      "source": [
        "idade = 20\n",
        "\n",
        "status = \"maior de idade\" if idade >= 18 else \"menor de idade\"\n",
        "\n",
        "print(status)"
      ],
      "metadata": {
        "colab": {
          "base_uri": "https://localhost:8080/"
        },
        "id": "1KMRyWfljXms",
        "outputId": "39938c3f-be93-4913-a253-376e3daa3755"
      },
      "execution_count": 27,
      "outputs": [
        {
          "output_type": "stream",
          "name": "stdout",
          "text": [
            "maior de idade\n"
          ]
        }
      ]
    },
    {
      "cell_type": "markdown",
      "source": [
        "## **Exercício 7 –  Verificando pontuação de um time**\n",
        "\n",
        "Você recebe um dicionário que indica o número de pontos de três times em um campeonato:\n",
        "\n",
        "```python\n",
        "time = {\"nome\": \"Azul\", \"pontos\": 17}\n",
        "```\n",
        "\n",
        "a) Verifique se a chave \"pontos\" está no dicionário. Se estiver, imprima o nome do time e seus pontos."
      ],
      "metadata": {
        "id": "FALxlaLp6WPI"
      }
    },
    {
      "cell_type": "code",
      "source": [
        "time = {\"nome\": \"Azul\", \"pontos\": 17}\n",
        "\n",
        "if \"pontos\" in time:\n",
        "  print(f\"O time {time['nome']} tem {time['pontos']} pontos.\")"
      ],
      "metadata": {
        "colab": {
          "base_uri": "https://localhost:8080/"
        },
        "id": "YuJKYBIIoWUI",
        "outputId": "df7ec217-a19e-4f8e-eb5f-fd9373bb25a6"
      },
      "execution_count": 35,
      "outputs": [
        {
          "output_type": "stream",
          "name": "stdout",
          "text": [
            "O time Azul tem 17 pontos.\n"
          ]
        }
      ]
    }
  ]
}