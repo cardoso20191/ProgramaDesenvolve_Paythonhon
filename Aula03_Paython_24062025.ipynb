{
  "nbformat": 4,
  "nbformat_minor": 0,
  "metadata": {
    "colab": {
      "provenance": [],
      "authorship_tag": "ABX9TyOLuvjlGYzea2yQD8awe5Pt",
      "include_colab_link": true
    },
    "kernelspec": {
      "name": "python3",
      "display_name": "Python 3"
    },
    "language_info": {
      "name": "python"
    }
  },
  "cells": [
    {
      "cell_type": "markdown",
      "metadata": {
        "id": "view-in-github",
        "colab_type": "text"
      },
      "source": [
        "<a href=\"https://colab.research.google.com/github/cardoso20191/ProgramaDesenvolve_Paythonhon/blob/main/Aula03_Paython_24062025.ipynb\" target=\"_parent\"><img src=\"https://colab.research.google.com/assets/colab-badge.svg\" alt=\"Open In Colab\"/></a>"
      ]
    },
    {
      "cell_type": "markdown",
      "source": [
        "# Estrutura Condicionais"
      ],
      "metadata": {
        "id": "Xua5xkjz8qdZ"
      }
    },
    {
      "cell_type": "code",
      "execution_count": 36,
      "metadata": {
        "colab": {
          "base_uri": "https://localhost:8080/"
        },
        "id": "TFnzsJ6T8iJ-",
        "outputId": "a0e42330-5702-4196-bb29-85e8e26cfe21"
      },
      "outputs": [
        {
          "output_type": "stream",
          "name": "stdout",
          "text": [
            "maior de Idade\n",
            "teste\n"
          ]
        }
      ],
      "source": [
        "#Exemplo01_if\n",
        "\n",
        "idade = 20\n",
        "\n",
        "if idade >= 18:\n",
        "  print(\"maior de Idade\")\n",
        "  print(\"teste\")"
      ]
    },
    {
      "cell_type": "code",
      "source": [
        "#Exemplo02  if/else\n",
        "\n",
        "idade = int(input(\"Informe sua idade: \"))\n",
        "#habilitacao = bool(input(\"Tem habilitação: \"))\n",
        "habilitacao = True\n",
        "\n",
        "if idade >= 18 and habilitacao:\n",
        "  print(\"Pode dirigir\")\n",
        "else:\n",
        "  print(\"Não pode dirigir\")\n"
      ],
      "metadata": {
        "colab": {
          "base_uri": "https://localhost:8080/"
        },
        "id": "fWTjeI3eEFwT",
        "outputId": "f487d24d-bdf8-46de-a652-8642510d418a"
      },
      "execution_count": 15,
      "outputs": [
        {
          "output_type": "stream",
          "name": "stdout",
          "text": [
            "Informe sua idade: 18\n",
            "Tem habilitação: não\n",
            "Pode dirigir\n"
          ]
        }
      ]
    },
    {
      "cell_type": "code",
      "source": [
        "#Exemplo03 valor padrão/teste/ valor alternativo - Teste Ternário\n",
        "\n",
        "idade = 18\n",
        "\n",
        "status = \"maior de idade\" if idade >= 18 else \"menor de idade\"\n",
        "\n",
        "print(status)"
      ],
      "metadata": {
        "colab": {
          "base_uri": "https://localhost:8080/"
        },
        "id": "KitnPZ9DHTz5",
        "outputId": "bcd825e4-b221-4af9-c2b7-082dab430747"
      },
      "execution_count": 16,
      "outputs": [
        {
          "output_type": "stream",
          "name": "stdout",
          "text": [
            "menor de idade\n"
          ]
        }
      ]
    },
    {
      "cell_type": "code",
      "source": [
        "#Exeplo04 temperatura - Teste Ternário\n",
        "\n",
        "#temperatura = 31\n",
        "temperatura = int(input(\"Informe a temperatura\"))\n",
        "sensacao = int(input(\"Informe a sensação\"))\n",
        "status = \"Alerta de calor\" if temperatura > 30 else \"Temperatura confortável\"\n",
        "\n",
        "print(status)"
      ],
      "metadata": {
        "colab": {
          "base_uri": "https://localhost:8080/"
        },
        "id": "JKYBsVKBH5d6",
        "outputId": "f80452b3-5230-4e86-fc2e-71e71d317904"
      },
      "execution_count": 22,
      "outputs": [
        {
          "output_type": "stream",
          "name": "stdout",
          "text": [
            "Informe a temperatura10\n",
            "Informe a sensação36\n",
            "Temperatura confortável\n"
          ]
        }
      ]
    },
    {
      "cell_type": "code",
      "source": [
        "#Exemplo05 - elif\n",
        "'''\n",
        "acima de 9 = Conceito A\n",
        "entre 7 e 9 = Conceito B\n",
        "acima de 5 - Conceito C\n",
        "abaixo de 5 = Reprovado\n",
        "\n",
        "'''\n",
        "nota = 7\n",
        "\n",
        "if nota >= 9:\n",
        "  print (\"Conceito A - Aprovado\")\n",
        "elif nota >=7: #else if\n",
        "  print(\"Conceito B - Aprovado\")\n",
        "elif nota >= 5:\n",
        "  print(\"Conceito C - Recuperação\")\n",
        "else:\n",
        "  print(\"Reprovado\")\n"
      ],
      "metadata": {
        "colab": {
          "base_uri": "https://localhost:8080/"
        },
        "id": "HGGR5109KNeL",
        "outputId": "5bb13460-d7ff-40bb-d452-7bc4d3e70327"
      },
      "execution_count": 25,
      "outputs": [
        {
          "output_type": "stream",
          "name": "stdout",
          "text": [
            "Conceito B - Aprovado\n"
          ]
        }
      ]
    },
    {
      "cell_type": "code",
      "source": [
        "#Exemplo06 - NOT\n",
        "\n",
        "usuario_ativo = False\n",
        "usuario_admin = True\n",
        "\n",
        "if usuario_ativo  or usuario_admin\n",
        "  print(\"Acesso concedido\")\n",
        "else:\n",
        "  print(\"Acesso negado\")\n",
        "\n",
        "#not usuario_ativo é igual a not False, que resulta em True\n",
        "  if not usuario_ativo:\n",
        "    print(\"usuário inativo\")\n"
      ],
      "metadata": {
        "id": "dq4vD3RMRIN5"
      },
      "execution_count": null,
      "outputs": []
    },
    {
      "cell_type": "code",
      "source": [
        "#Exemplo07 - busca com in\n",
        "alunos = [\"Ana\", \"Carlos\", \"Beatriz\"]\n",
        "\n",
        "if \"Carlos\" in alunos:\n",
        "  print(\"Calros está na lista\")\n",
        "else:\n",
        "  print(\"Carlos não está na lista!\")"
      ],
      "metadata": {
        "colab": {
          "base_uri": "https://localhost:8080/"
        },
        "id": "KRwmK2bOZLTV",
        "outputId": "5955ae34-cd7d-4e68-fe80-1885eee7b0c7"
      },
      "execution_count": 26,
      "outputs": [
        {
          "output_type": "stream",
          "name": "stdout",
          "text": [
            "Calros está na lista\n"
          ]
        }
      ]
    },
    {
      "cell_type": "code",
      "source": [
        "#Exemplo08 - busca com in\n",
        "\n",
        "frase = \"Python é incrivel\"\n",
        "\n",
        "if \"Python\" in frase:\n",
        "    print(\"A frase fala de Python\")\n",
        "else:\n",
        "    print(\"A frade fala de P\")"
      ],
      "metadata": {
        "colab": {
          "base_uri": "https://localhost:8080/"
        },
        "id": "zV1lqJZfZvqe",
        "outputId": "476975f4-cd33-4271-82d7-43c4ce0f46e4"
      },
      "execution_count": 29,
      "outputs": [
        {
          "output_type": "stream",
          "name": "stdout",
          "text": [
            "A frade fala de P\n"
          ]
        }
      ]
    },
    {
      "cell_type": "code",
      "source": [
        "#Exemplo09 - busca com in\n",
        "\n",
        "numeros = [10,20,30,40,50]\n",
        "\n",
        "if 10 in numeros:\n",
        "  print(\"10  está na lista\")\n",
        "else:\n",
        "  print(\"10 não está na lista\")\n"
      ],
      "metadata": {
        "colab": {
          "base_uri": "https://localhost:8080/"
        },
        "id": "nF2I_hbZa4la",
        "outputId": "58c36579-e089-4277-9a37-4d2a1b77c8e7"
      },
      "execution_count": 30,
      "outputs": [
        {
          "output_type": "stream",
          "name": "stdout",
          "text": [
            "10  está na lista\n"
          ]
        }
      ]
    },
    {
      "cell_type": "code",
      "source": [
        "#Exemplo10 - busca in - lista vázia\n",
        "\n",
        "carrinho = [] #lista vázia significa False\n",
        "\n",
        "if not carrinho: #not vai deixar o valor carinho Ture\n",
        "  print(\"Nenhum item no carrinho!\")"
      ],
      "metadata": {
        "colab": {
          "base_uri": "https://localhost:8080/"
        },
        "id": "Oz1fgHsSbxDI",
        "outputId": "bf096cdf-793f-409f-fc84-40e4242046a8"
      },
      "execution_count": 31,
      "outputs": [
        {
          "output_type": "stream",
          "name": "stdout",
          "text": [
            "Nenhum item no carrinho!\n"
          ]
        }
      ]
    },
    {
      "cell_type": "code",
      "source": [
        "#Exemplo - Dicionário - <<Próxima aula>>\n",
        "\n",
        "aluno = {'nome': 'João', 'nota': 9}\n",
        "\n",
        "if 'nota' in aluno:\n",
        "  print(f\"nota do aluno: {aluno['nota']}\")\n",
        "else:\n",
        "  print('Aluno sem nota')"
      ],
      "metadata": {
        "colab": {
          "base_uri": "https://localhost:8080/"
        },
        "id": "XOwdgVBycjYX",
        "outputId": "e468cec7-bca4-4c1e-d11a-7dbf20f27d9b"
      },
      "execution_count": 33,
      "outputs": [
        {
          "output_type": "stream",
          "name": "stdout",
          "text": [
            "nota do aluno: 9\n"
          ]
        }
      ]
    },
    {
      "cell_type": "code",
      "source": [
        "#Exemplo - Dicionário - <<Próxima aula>>\n",
        "\n",
        "senha = \"python123\"\n",
        "input_usuario = \"python124\"\n",
        "\n",
        "if input_usuario == senha:\n",
        "  print (\"Acesso liberado\")\n",
        "else:\n",
        "  print(\"Senha incorreta\")\n",
        "  print(f\"Input recebido: {input_usuario} (esperado: {senha})\")\n"
      ],
      "metadata": {
        "colab": {
          "base_uri": "https://localhost:8080/"
        },
        "id": "dV8pw66dda1V",
        "outputId": "14051a0b-17d9-4423-8946-2ed40b9af7c3"
      },
      "execution_count": 35,
      "outputs": [
        {
          "output_type": "stream",
          "name": "stdout",
          "text": [
            "Senha incorreta\n",
            "Input recebido: python124 (esperado: python123)\n"
          ]
        }
      ]
    }
  ]
}