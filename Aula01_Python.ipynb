{
  "nbformat": 4,
  "nbformat_minor": 0,
  "metadata": {
    "colab": {
      "provenance": [],
      "authorship_tag": "ABX9TyMQ8U5SaOxUWbIJ712ooyJt",
      "include_colab_link": true
    },
    "kernelspec": {
      "name": "python3",
      "display_name": "Python 3"
    },
    "language_info": {
      "name": "python"
    }
  },
  "cells": [
    {
      "cell_type": "markdown",
      "metadata": {
        "id": "view-in-github",
        "colab_type": "text"
      },
      "source": [
        "<a href=\"https://colab.research.google.com/github/cardoso20191/ProgramaDesenvolve_Paythonhon/blob/main/Aula01_Python.ipynb\" target=\"_parent\"><img src=\"https://colab.research.google.com/assets/colab-badge.svg\" alt=\"Open In Colab\"/></a>"
      ]
    },
    {
      "cell_type": "markdown",
      "source": [
        "# Olá Mundo\n",
        "É uma boa pratica documentar para que fique claro o que está sendo feito na linha de código sendo criada..."
      ],
      "metadata": {
        "id": "VzqhdwF-LX4W"
      }
    },
    {
      "cell_type": "code",
      "execution_count": null,
      "metadata": {
        "colab": {
          "base_uri": "https://localhost:8080/"
        },
        "id": "IsdncB4DKY2I",
        "outputId": "1e913fc7-4510-421e-f7b2-4c34f50d152f"
      },
      "outputs": [
        {
          "output_type": "stream",
          "name": "stdout",
          "text": [
            "Olá Mundo\n"
          ]
        }
      ],
      "source": [
        "print(\"Olá Mundo\")"
      ]
    },
    {
      "cell_type": "markdown",
      "source": [
        "#Exemplo de sintaxe simples\n",
        "\n",
        "Vamos usar algumas funções e bibliotecas para entender a simplicidade do Python"
      ],
      "metadata": {
        "id": "cIYJr8tbN1bl"
      }
    },
    {
      "cell_type": "code",
      "source": [
        "numeros = [1,2,3,4]\n",
        "print(sum(numeros))"
      ],
      "metadata": {
        "colab": {
          "base_uri": "https://localhost:8080/"
        },
        "id": "8QeixguQOHAv",
        "outputId": "e2f8d8af-9b3a-4691-81d0-a512b02785c8"
      },
      "execution_count": null,
      "outputs": [
        {
          "output_type": "stream",
          "name": "stdout",
          "text": [
            "10\n"
          ]
        }
      ]
    },
    {
      "cell_type": "markdown",
      "source": [
        "# Exemplos de Bibliotecas\n",
        "\n",
        "Exemplo de panda e numpy\n"
      ],
      "metadata": {
        "id": "EvxhB4JvPOL8"
      }
    },
    {
      "cell_type": "code",
      "source": [
        "import pandas as pd\n",
        "\n",
        "df = pd.DataFrame({\"Produto\": [\"A\", \"B\", \"C\"], \"Vendas\": [10, 20, 15]})\n",
        "print(df)"
      ],
      "metadata": {
        "colab": {
          "base_uri": "https://localhost:8080/"
        },
        "id": "y0mjfzjwPjrk",
        "outputId": "1747df0b-49b8-49f6-87b6-822d0f2d9d0d"
      },
      "execution_count": null,
      "outputs": [
        {
          "output_type": "stream",
          "name": "stdout",
          "text": [
            "  Produto  Vendas\n",
            "0       A      10\n",
            "1       B      20\n",
            "2       C      15\n"
          ]
        }
      ]
    },
    {
      "cell_type": "code",
      "source": [
        "import numpy as np\n",
        "arr = np.array([1,2,3,4,5])\n",
        "print(arr * 10)"
      ],
      "metadata": {
        "colab": {
          "base_uri": "https://localhost:8080/"
        },
        "id": "5UcDfuYFRYAk",
        "outputId": "3e576f49-5b19-4b87-d3ff-3bc9b34c707c"
      },
      "execution_count": null,
      "outputs": [
        {
          "output_type": "stream",
          "name": "stdout",
          "text": [
            "[10 20 30 40 50]\n"
          ]
        }
      ]
    },
    {
      "cell_type": "markdown",
      "source": [
        "# Criando uma função\n",
        "\n"
      ],
      "metadata": {
        "id": "Y5GeI9opSv8D"
      }
    },
    {
      "cell_type": "code",
      "source": [
        "def saudacao(nome):\n",
        "  print(\"Ola\", nome)\n",
        "\n",
        "saudacao(\"joão\")"
      ],
      "metadata": {
        "colab": {
          "base_uri": "https://localhost:8080/"
        },
        "id": "NR-0AkVUS1S8",
        "outputId": "5ea1ffe4-41eb-4f57-9077-d657d6606520"
      },
      "execution_count": null,
      "outputs": [
        {
          "output_type": "stream",
          "name": "stdout",
          "text": [
            "Ola joão\n"
          ]
        }
      ]
    },
    {
      "cell_type": "code",
      "source": [
        "idade = 15\n",
        "if idade > 18:\n",
        "  print(\"É maior de idade\")\n",
        "else:\n",
        "  print(\"Não é maior de idade\")"
      ],
      "metadata": {
        "colab": {
          "base_uri": "https://localhost:8080/"
        },
        "id": "SKxwBVNmUSMc",
        "outputId": "5be3e485-3ec9-4258-ecc9-da31ad359ac4"
      },
      "execution_count": null,
      "outputs": [
        {
          "output_type": "stream",
          "name": "stdout",
          "text": [
            "Não é maior de idade\n"
          ]
        }
      ]
    },
    {
      "cell_type": "code",
      "source": [
        "nome  = \"Eduardo\"\n",
        "idade = 36\n",
        "print('Olá', 'meu', 'nome', nome, 'você tem', idade, 'anos')"
      ],
      "metadata": {
        "colab": {
          "base_uri": "https://localhost:8080/"
        },
        "id": "e8111f7MVPgK",
        "outputId": "67d1ea52-d88b-41c1-9708-463eba069f8c"
      },
      "execution_count": null,
      "outputs": [
        {
          "output_type": "stream",
          "name": "stdout",
          "text": [
            "Olá meu nome Eduardo você tem 36 anos\n"
          ]
        }
      ]
    }
  ]
}