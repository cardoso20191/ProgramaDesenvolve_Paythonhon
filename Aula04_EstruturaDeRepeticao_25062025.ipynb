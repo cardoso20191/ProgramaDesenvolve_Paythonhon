{
  "nbformat": 4,
  "nbformat_minor": 0,
  "metadata": {
    "colab": {
      "provenance": [],
      "authorship_tag": "ABX9TyMULnJP0KRnoASmodHOHLXs",
      "include_colab_link": true
    },
    "kernelspec": {
      "name": "python3",
      "display_name": "Python 3"
    },
    "language_info": {
      "name": "python"
    }
  },
  "cells": [
    {
      "cell_type": "markdown",
      "metadata": {
        "id": "view-in-github",
        "colab_type": "text"
      },
      "source": [
        "<a href=\"https://colab.research.google.com/github/cardoso20191/ProgramaDesenvolve_Paythonhon/blob/main/Aula04_EstruturaDeRepeticao_25062025.ipynb\" target=\"_parent\"><img src=\"https://colab.research.google.com/assets/colab-badge.svg\" alt=\"Open In Colab\"/></a>"
      ]
    },
    {
      "cell_type": "code",
      "execution_count": null,
      "metadata": {
        "id": "yJHQXANiIJwl"
      },
      "outputs": [],
      "source": []
    },
    {
      "cell_type": "markdown",
      "source": [
        "O Conceito de Laços (Loops)\n",
        "Instruções de controlem que permitem executar um bloco de código multiplas vezes.\n",
        "Em python, temos:"
      ],
      "metadata": {
        "id": "w0KCplp0Im5A"
      }
    },
    {
      "cell_type": "code",
      "source": [
        "#Exemplo01 - Loop for para fazer uma Tabuada do 2\n",
        "\n",
        "numero = 2\n",
        "\n",
        "for i in range(1,11):\n",
        "  print(numero * i)"
      ],
      "metadata": {
        "colab": {
          "base_uri": "https://localhost:8080/"
        },
        "id": "yG2WFoibJDJo",
        "outputId": "3cae77ee-0c3b-4bd6-d1f9-163bfa6d92d2"
      },
      "execution_count": 1,
      "outputs": [
        {
          "output_type": "stream",
          "name": "stdout",
          "text": [
            "2\n",
            "4\n",
            "6\n",
            "8\n",
            "10\n",
            "12\n",
            "14\n",
            "16\n",
            "18\n",
            "20\n"
          ]
        }
      ]
    },
    {
      "cell_type": "code",
      "source": [
        "#Exemplo02 for com string\n",
        "\n",
        "palavra = \"python\"\n",
        "for letra in palavra:\n",
        "  print(letra)\n",
        "\n",
        "print(\"Fim de análise\")"
      ],
      "metadata": {
        "colab": {
          "base_uri": "https://localhost:8080/"
        },
        "id": "ThkLyK-bL2k4",
        "outputId": "4de08061-c9d9-4211-994e-daa2dc943456"
      },
      "execution_count": 5,
      "outputs": [
        {
          "output_type": "stream",
          "name": "stdout",
          "text": [
            "p\n",
            "y\n",
            "t\n",
            "h\n",
            "o\n",
            "n\n",
            "Fim de análise\n"
          ]
        }
      ]
    },
    {
      "cell_type": "code",
      "source": [
        "#Exemplo03 - contador incrementando usa-se \"+\" para decrementar usa-se \"-\"\n",
        "\n",
        "palavra = \"Python\"\n",
        "contador = 0\n",
        "\n",
        "for letra in palavra:\n",
        "  print(letra)\n",
        "  #contador = contador + 1\n",
        "  contador += 1\n",
        "\n",
        "print(\"Fim de análise\")\n",
        "print(contador)"
      ],
      "metadata": {
        "colab": {
          "base_uri": "https://localhost:8080/"
        },
        "id": "tzT-2qcHMo94",
        "outputId": "5b1b46bd-0ad8-4279-9e2a-3e92d13590b2"
      },
      "execution_count": 8,
      "outputs": [
        {
          "output_type": "stream",
          "name": "stdout",
          "text": [
            "P\n",
            "y\n",
            "t\n",
            "h\n",
            "o\n",
            "n\n",
            "Fim de análise\n",
            "6\n"
          ]
        }
      ]
    },
    {
      "cell_type": "code",
      "source": [
        "#Exemplo04 - for com lista\n",
        "\n",
        "cores = [\"vermelho\", \"verde\", \"azul\"]\n",
        "\n",
        "for cor in cores:\n",
        "  print(\"cor: \", cores)"
      ],
      "metadata": {
        "colab": {
          "base_uri": "https://localhost:8080/"
        },
        "id": "E2Y6K5mIOaYj",
        "outputId": "87d30e7b-f4d0-44bb-d813-e730a196a5ba"
      },
      "execution_count": 9,
      "outputs": [
        {
          "output_type": "stream",
          "name": "stdout",
          "text": [
            "cor:  ['vermelho', 'verde', 'azul']\n",
            "cor:  ['vermelho', 'verde', 'azul']\n",
            "cor:  ['vermelho', 'verde', 'azul']\n"
          ]
        }
      ]
    },
    {
      "cell_type": "code",
      "source": [
        "#Exemplo05 -\n",
        "\n",
        "cores = [\"vernelho\", \"verde\", \"azul\"]\n",
        "\n",
        "for i in range(len(cores)):\n",
        "  print(f\"Indice {i} corresponde à cor {cores[i]}\")"
      ],
      "metadata": {
        "id": "XvQMMCQYO8nf"
      },
      "execution_count": null,
      "outputs": []
    },
    {
      "cell_type": "code",
      "source": [
        "#Exemplo06 laço while\n",
        "\n",
        "contador = 5\n",
        "\n",
        "while contador > 0:\n",
        "  print(\"Contador:\", contador)\n",
        "contador -= 1"
      ],
      "metadata": {
        "id": "9TMdoN6pQDXR"
      },
      "execution_count": null,
      "outputs": []
    },
    {
      "cell_type": "code",
      "source": [
        "#Exemplo07 - Contagem de tentativas com while\n",
        "\n",
        "senha = \"\"\n",
        "tentativa = 0\n",
        "\n",
        "while senha != \"1234\" and tentativa <3:\n",
        "  senha = input(\"Informe sua senha:\")\n",
        "  tentativa +=1\n",
        "  if (tentativa ==3):\n",
        "    print(\"Você já excedeu o limite de tentativas. Acesso bloqueado\")\n",
        "    break #Ele interrompe o laço ose cair aqui.\n",
        "  #else:\n",
        "   # print(\"Senha incorreta. Tente novamente\")\n",
        "    #continue\n",
        "\n",
        "if(senha==\"1234\"):\n",
        "    print(f\"senha  correta em {tentativa} tentativas\")"
      ],
      "metadata": {
        "colab": {
          "base_uri": "https://localhost:8080/"
        },
        "id": "8zZ8QJ6oRaGs",
        "outputId": "47a462b5-d17d-4fea-bc4a-17ac518afdc8"
      },
      "execution_count": 41,
      "outputs": [
        {
          "output_type": "stream",
          "name": "stdout",
          "text": [
            "Informe sua senha:555\n",
            "Informe sua senha:1234\n",
            "senha  correta em 2 tentativas\n"
          ]
        }
      ]
    },
    {
      "cell_type": "code",
      "source": [
        "#Exemplo08 - exemplo for e if com lista para identificar npumeros pares\n",
        "\n",
        "numeros = [1,2,3,4,5,6,7,8,9,10]\n",
        "pares = []\n",
        "\n",
        "for n in numeros:\n",
        "  if(n % 2 == 0):\n",
        "    pares.append(n) #append inclui na lista pares\n",
        "\n",
        "print(pares)"
      ],
      "metadata": {
        "colab": {
          "base_uri": "https://localhost:8080/"
        },
        "id": "pgMV0Cj-ZA2x",
        "outputId": "c18f5007-13ea-4788-d066-69d2c965bb2d"
      },
      "execution_count": 42,
      "outputs": [
        {
          "output_type": "stream",
          "name": "stdout",
          "text": [
            "[2, 4, 6, 8, 10]\n"
          ]
        }
      ]
    },
    {
      "cell_type": "code",
      "source": [
        "from os import stat_result\n",
        "#Exemplo09 - List Comprehension usadda para substituir um for\n",
        "\n",
        "numeros = [1,2,3,4,5,6,7,8,9,10]\n",
        "resultado = [n * 2 for n in numeros]\n",
        "\n",
        "print(resultado)"
      ],
      "metadata": {
        "colab": {
          "base_uri": "https://localhost:8080/"
        },
        "id": "ZCq_mMSlbhZS",
        "outputId": "dc6cf2c3-0a08-48bb-b845-de7e244baa5d"
      },
      "execution_count": 43,
      "outputs": [
        {
          "output_type": "stream",
          "name": "stdout",
          "text": [
            "[2, 4, 6, 8, 10, 12, 14, 16, 18, 20]\n"
          ]
        }
      ]
    },
    {
      "cell_type": "code",
      "source": [
        "#Exemplo09 - List Comprehension usadda para validar números pares\n",
        "\n",
        "numeros = [1,2,3,4,5,6,7,8,9,10]\n",
        "pares = [n for n in numeros if n % 2 == 0]\n",
        "\n",
        "print(pares)"
      ],
      "metadata": {
        "colab": {
          "base_uri": "https://localhost:8080/"
        },
        "id": "XFPL9VCkc0K3",
        "outputId": "cd8b11b6-d037-45c8-c04a-99ec7d20f69d"
      },
      "execution_count": 44,
      "outputs": [
        {
          "output_type": "stream",
          "name": "stdout",
          "text": [
            "[2, 4, 6, 8, 10]\n"
          ]
        }
      ]
    },
    {
      "cell_type": "code",
      "source": [
        "#Exemplo10 - código para enviar um arquivo txt para o colab utilizando uma biblioteca do google\n",
        "from google.colab import files\n",
        "uploaded = files.upload()\n"
      ],
      "metadata": {
        "colab": {
          "base_uri": "https://localhost:8080/",
          "height": 74
        },
        "id": "-AxFHQG6d1XB",
        "outputId": "7027d06d-b6cd-4cec-ca07-1110eee85b8b"
      },
      "execution_count": 45,
      "outputs": [
        {
          "output_type": "display_data",
          "data": {
            "text/plain": [
              "<IPython.core.display.HTML object>"
            ],
            "text/html": [
              "\n",
              "     <input type=\"file\" id=\"files-3571c5fe-34e5-466d-8e0b-53864401142d\" name=\"files[]\" multiple disabled\n",
              "        style=\"border:none\" />\n",
              "     <output id=\"result-3571c5fe-34e5-466d-8e0b-53864401142d\">\n",
              "      Upload widget is only available when the cell has been executed in the\n",
              "      current browser session. Please rerun this cell to enable.\n",
              "      </output>\n",
              "      <script>// Copyright 2017 Google LLC\n",
              "//\n",
              "// Licensed under the Apache License, Version 2.0 (the \"License\");\n",
              "// you may not use this file except in compliance with the License.\n",
              "// You may obtain a copy of the License at\n",
              "//\n",
              "//      http://www.apache.org/licenses/LICENSE-2.0\n",
              "//\n",
              "// Unless required by applicable law or agreed to in writing, software\n",
              "// distributed under the License is distributed on an \"AS IS\" BASIS,\n",
              "// WITHOUT WARRANTIES OR CONDITIONS OF ANY KIND, either express or implied.\n",
              "// See the License for the specific language governing permissions and\n",
              "// limitations under the License.\n",
              "\n",
              "/**\n",
              " * @fileoverview Helpers for google.colab Python module.\n",
              " */\n",
              "(function(scope) {\n",
              "function span(text, styleAttributes = {}) {\n",
              "  const element = document.createElement('span');\n",
              "  element.textContent = text;\n",
              "  for (const key of Object.keys(styleAttributes)) {\n",
              "    element.style[key] = styleAttributes[key];\n",
              "  }\n",
              "  return element;\n",
              "}\n",
              "\n",
              "// Max number of bytes which will be uploaded at a time.\n",
              "const MAX_PAYLOAD_SIZE = 100 * 1024;\n",
              "\n",
              "function _uploadFiles(inputId, outputId) {\n",
              "  const steps = uploadFilesStep(inputId, outputId);\n",
              "  const outputElement = document.getElementById(outputId);\n",
              "  // Cache steps on the outputElement to make it available for the next call\n",
              "  // to uploadFilesContinue from Python.\n",
              "  outputElement.steps = steps;\n",
              "\n",
              "  return _uploadFilesContinue(outputId);\n",
              "}\n",
              "\n",
              "// This is roughly an async generator (not supported in the browser yet),\n",
              "// where there are multiple asynchronous steps and the Python side is going\n",
              "// to poll for completion of each step.\n",
              "// This uses a Promise to block the python side on completion of each step,\n",
              "// then passes the result of the previous step as the input to the next step.\n",
              "function _uploadFilesContinue(outputId) {\n",
              "  const outputElement = document.getElementById(outputId);\n",
              "  const steps = outputElement.steps;\n",
              "\n",
              "  const next = steps.next(outputElement.lastPromiseValue);\n",
              "  return Promise.resolve(next.value.promise).then((value) => {\n",
              "    // Cache the last promise value to make it available to the next\n",
              "    // step of the generator.\n",
              "    outputElement.lastPromiseValue = value;\n",
              "    return next.value.response;\n",
              "  });\n",
              "}\n",
              "\n",
              "/**\n",
              " * Generator function which is called between each async step of the upload\n",
              " * process.\n",
              " * @param {string} inputId Element ID of the input file picker element.\n",
              " * @param {string} outputId Element ID of the output display.\n",
              " * @return {!Iterable<!Object>} Iterable of next steps.\n",
              " */\n",
              "function* uploadFilesStep(inputId, outputId) {\n",
              "  const inputElement = document.getElementById(inputId);\n",
              "  inputElement.disabled = false;\n",
              "\n",
              "  const outputElement = document.getElementById(outputId);\n",
              "  outputElement.innerHTML = '';\n",
              "\n",
              "  const pickedPromise = new Promise((resolve) => {\n",
              "    inputElement.addEventListener('change', (e) => {\n",
              "      resolve(e.target.files);\n",
              "    });\n",
              "  });\n",
              "\n",
              "  const cancel = document.createElement('button');\n",
              "  inputElement.parentElement.appendChild(cancel);\n",
              "  cancel.textContent = 'Cancel upload';\n",
              "  const cancelPromise = new Promise((resolve) => {\n",
              "    cancel.onclick = () => {\n",
              "      resolve(null);\n",
              "    };\n",
              "  });\n",
              "\n",
              "  // Wait for the user to pick the files.\n",
              "  const files = yield {\n",
              "    promise: Promise.race([pickedPromise, cancelPromise]),\n",
              "    response: {\n",
              "      action: 'starting',\n",
              "    }\n",
              "  };\n",
              "\n",
              "  cancel.remove();\n",
              "\n",
              "  // Disable the input element since further picks are not allowed.\n",
              "  inputElement.disabled = true;\n",
              "\n",
              "  if (!files) {\n",
              "    return {\n",
              "      response: {\n",
              "        action: 'complete',\n",
              "      }\n",
              "    };\n",
              "  }\n",
              "\n",
              "  for (const file of files) {\n",
              "    const li = document.createElement('li');\n",
              "    li.append(span(file.name, {fontWeight: 'bold'}));\n",
              "    li.append(span(\n",
              "        `(${file.type || 'n/a'}) - ${file.size} bytes, ` +\n",
              "        `last modified: ${\n",
              "            file.lastModifiedDate ? file.lastModifiedDate.toLocaleDateString() :\n",
              "                                    'n/a'} - `));\n",
              "    const percent = span('0% done');\n",
              "    li.appendChild(percent);\n",
              "\n",
              "    outputElement.appendChild(li);\n",
              "\n",
              "    const fileDataPromise = new Promise((resolve) => {\n",
              "      const reader = new FileReader();\n",
              "      reader.onload = (e) => {\n",
              "        resolve(e.target.result);\n",
              "      };\n",
              "      reader.readAsArrayBuffer(file);\n",
              "    });\n",
              "    // Wait for the data to be ready.\n",
              "    let fileData = yield {\n",
              "      promise: fileDataPromise,\n",
              "      response: {\n",
              "        action: 'continue',\n",
              "      }\n",
              "    };\n",
              "\n",
              "    // Use a chunked sending to avoid message size limits. See b/62115660.\n",
              "    let position = 0;\n",
              "    do {\n",
              "      const length = Math.min(fileData.byteLength - position, MAX_PAYLOAD_SIZE);\n",
              "      const chunk = new Uint8Array(fileData, position, length);\n",
              "      position += length;\n",
              "\n",
              "      const base64 = btoa(String.fromCharCode.apply(null, chunk));\n",
              "      yield {\n",
              "        response: {\n",
              "          action: 'append',\n",
              "          file: file.name,\n",
              "          data: base64,\n",
              "        },\n",
              "      };\n",
              "\n",
              "      let percentDone = fileData.byteLength === 0 ?\n",
              "          100 :\n",
              "          Math.round((position / fileData.byteLength) * 100);\n",
              "      percent.textContent = `${percentDone}% done`;\n",
              "\n",
              "    } while (position < fileData.byteLength);\n",
              "  }\n",
              "\n",
              "  // All done.\n",
              "  yield {\n",
              "    response: {\n",
              "      action: 'complete',\n",
              "    }\n",
              "  };\n",
              "}\n",
              "\n",
              "scope.google = scope.google || {};\n",
              "scope.google.colab = scope.google.colab || {};\n",
              "scope.google.colab._files = {\n",
              "  _uploadFiles,\n",
              "  _uploadFilesContinue,\n",
              "};\n",
              "})(self);\n",
              "</script> "
            ]
          },
          "metadata": {}
        },
        {
          "output_type": "stream",
          "name": "stdout",
          "text": [
            "Saving testepython.txt to testepython.txt\n"
          ]
        }
      ]
    },
    {
      "cell_type": "code",
      "source": [
        "#Exemplo10.1 Ler o aruivo do exemplo 10\n",
        "\n",
        "with open(\"testepython.txt\") as arquivo:\n",
        "  for linha in arquivo:\n",
        "    print(linha)"
      ],
      "metadata": {
        "colab": {
          "base_uri": "https://localhost:8080/"
        },
        "id": "5W509jaFeGm4",
        "outputId": "cfdd6edc-230c-40a2-9726-4a9d9e1ed3eb"
      },
      "execution_count": 46,
      "outputs": [
        {
          "output_type": "stream",
          "name": "stdout",
          "text": [
            "ID: 001 | Nome: João Silva | Idade: 28 | Cidade: São Paulo\n",
            "\n",
            "ID: 002 | Nome: Maria Oliveira | Idade: 34 | Cidade: Rio de Janeiro\n",
            "\n",
            "ID: 003 | Nome: Carlos Souza | Idade: 22 | Cidade: Belo Horizonte\n",
            "\n",
            "ID: 004 | Nome: Ana Paula | Idade: 41 | Cidade: Curitiba\n",
            "\n",
            "ID: 005 | Nome: Pedro Henrique | Idade: 30 | Cidade: Porto Alegre\n",
            "\n",
            "ID: 006 | Nome: Larissa Costa | Idade: 27 | Cidade: Recife\n",
            "\n",
            "ID: 007 | Nome: Rafael Lima | Idade: 36 | Cidade: Salvador\n",
            "\n",
            "ID: 008 | Nome: Beatriz Rocha | Idade: 25 | Cidade: Fortaleza\n",
            "\n",
            "ID: 009 | Nome: Lucas Martins | Idade: 31 | Cidade: Manaus\n",
            "\n",
            "ID: 010 | Nome: Camila Ramos | Idade: 29 | Cidade: Brasília\n",
            "\n"
          ]
        }
      ]
    },
    {
      "cell_type": "code",
      "source": [
        "#Exemplo11 - Tratamento de dados do arquivo\n",
        "\n",
        "nomes = [\"Eduardo\", \"Andressa\", \"Kimberly\", \"Wanessa\"]\n",
        "\n",
        "for n in nomes:\n",
        "  print(f\"Gerar planilha {n}.xls\")"
      ],
      "metadata": {
        "colab": {
          "base_uri": "https://localhost:8080/"
        },
        "id": "yE6_VBbne785",
        "outputId": "eebba34a-cd40-4ae1-9600-08c8f24e6b07"
      },
      "execution_count": 48,
      "outputs": [
        {
          "output_type": "stream",
          "name": "stdout",
          "text": [
            "Gerar planilha Eduardo.xls\n",
            "Gerar planilha Andressa.xls\n",
            "Gerar planilha Kimberly.xls\n",
            "Gerar planilha Wanessa.xls\n"
          ]
        }
      ]
    }
  ]
}