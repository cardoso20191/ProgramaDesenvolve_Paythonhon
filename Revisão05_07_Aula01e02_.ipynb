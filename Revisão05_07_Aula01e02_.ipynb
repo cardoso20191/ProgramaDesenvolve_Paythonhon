{
  "nbformat": 4,
  "nbformat_minor": 0,
  "metadata": {
    "colab": {
      "provenance": [],
      "authorship_tag": "ABX9TyNWdTAQ6c7JDvXxnpGD0L64",
      "include_colab_link": true
    },
    "kernelspec": {
      "name": "python3",
      "display_name": "Python 3"
    },
    "language_info": {
      "name": "python"
    }
  },
  "cells": [
    {
      "cell_type": "markdown",
      "metadata": {
        "id": "view-in-github",
        "colab_type": "text"
      },
      "source": [
        "<a href=\"https://colab.research.google.com/github/cardoso20191/ProgramaDesenvolve_Paythonhon/blob/main/Revis%C3%A3o05_07_Aula01e02_.ipynb\" target=\"_parent\"><img src=\"https://colab.research.google.com/assets/colab-badge.svg\" alt=\"Open In Colab\"/></a>"
      ]
    },
    {
      "cell_type": "markdown",
      "source": [
        "# 1. Calculadora de Desconto\n",
        "Peça ao usuário o preço original e o percentual de desconto.\n",
        "Calcule e mostre o valor do desconto e o preço final."
      ],
      "metadata": {
        "id": "n7AdOIaIGEIk"
      }
    },
    {
      "cell_type": "code",
      "execution_count": 11,
      "metadata": {
        "colab": {
          "base_uri": "https://localhost:8080/"
        },
        "id": "v1bDiQki1Rw5",
        "outputId": "ffc2f44e-6820-4c9c-a367-c6595242d138"
      },
      "outputs": [
        {
          "output_type": "stream",
          "name": "stdout",
          "text": [
            "Valor original: 23.99\n",
            "informe o % de desconto: 10\n",
            "Valor Real: 23.99, preço com desconto: 21.59\n"
          ]
        }
      ],
      "source": [
        "valor_venda = float(input(\"Valor original: \"))\n",
        "desconto = int(input(\"informe o % de desconto: \"))\n",
        "precoFinal = round (valor_venda - (valor_venda * desconto) / 100, 2) #A função round limita a quantidade de casas decimais desejada.\n",
        "print(f'Valor Real: {valor_venda}, preço com desconto: {precoFinal}')"
      ]
    },
    {
      "cell_type": "markdown",
      "source": [
        "# 2. Par ou Ímpar\n",
        "Peça um número inteiro ao usuário e diga se ele é par ou ímpar."
      ],
      "metadata": {
        "id": "ulYx5YgbGO3L"
      }
    },
    {
      "cell_type": "code",
      "source": [
        "verificador = int(input(\"Digite um número inteiro: \"))\n",
        "verificador = verificador % 2\n",
        "if verificador != 0:\n",
        "  print(\"O  número é impar\")\n",
        "else:\n",
        "  print(\"O npúmero é par\")"
      ],
      "metadata": {
        "colab": {
          "base_uri": "https://localhost:8080/"
        },
        "id": "ytntFCxH5ibC",
        "outputId": "3e1f421e-8bfa-4fd0-c027-72694033dd43"
      },
      "execution_count": 13,
      "outputs": [
        {
          "output_type": "stream",
          "name": "stdout",
          "text": [
            "Digite um número inteiro: 4\n",
            "O npúmero é par\n"
          ]
        }
      ]
    },
    {
      "cell_type": "markdown",
      "source": [
        "# 3. Soma dos Pares\n",
        "Calcule a soma de todos os números pares entre 1 e 100."
      ],
      "metadata": {
        "id": "g7_cP6wYGVWI"
      }
    },
    {
      "cell_type": "code",
      "source": [
        "soma = 0\n",
        "\n",
        "for numeros in range (1, 101): #Aqui a função \"range\" define qual o intervelo que quero testar no caso até 100 comçando em 1.\n",
        "  if numeros % 2 == 0:\n",
        "    soma +=numeros\n",
        "\n",
        "print(f'A soma dos números pares de 1 a 100 é: {soma}')"
      ],
      "metadata": {
        "colab": {
          "base_uri": "https://localhost:8080/"
        },
        "id": "xoXqDtWs6zsT",
        "outputId": "62d9b344-c832-4337-d845-92aca0043f9e"
      },
      "execution_count": 14,
      "outputs": [
        {
          "output_type": "stream",
          "name": "stdout",
          "text": [
            "A soma dos números pares de 1 a 100 é: 2550\n"
          ]
        }
      ]
    },
    {
      "cell_type": "markdown",
      "source": [
        "# 4. Contador de Caracteres\n",
        "Peça uma frase ao usuário e mostre quantos caracteres ela possui (sem contar os espaços)."
      ],
      "metadata": {
        "id": "CoSbaogAGgPz"
      }
    },
    {
      "cell_type": "code",
      "source": [
        "teste = \"Edu\"\n",
        "#contador = len(teste) # A função \"len\" serve para contar caracteres\n",
        "#print(contador)\n",
        "print(len(teste))"
      ],
      "metadata": {
        "colab": {
          "base_uri": "https://localhost:8080/"
        },
        "id": "p5NAwFA59D1d",
        "outputId": "1846f39b-1b40-4d80-b9ee-a311b47d8af1"
      },
      "execution_count": 22,
      "outputs": [
        {
          "output_type": "stream",
          "name": "stdout",
          "text": [
            "3\n"
          ]
        }
      ]
    },
    {
      "cell_type": "code",
      "source": [
        "maiuscula = \"eduardo\"\n",
        "print(maiuscula.upper())"
      ],
      "metadata": {
        "colab": {
          "base_uri": "https://localhost:8080/"
        },
        "id": "ZfdKk1Fl99uU",
        "outputId": "470057b1-e79e-4c76-f149-428b30991a16"
      },
      "execution_count": 20,
      "outputs": [
        {
          "output_type": "stream",
          "name": "stdout",
          "text": [
            "EDUARDO\n"
          ]
        }
      ]
    },
    {
      "cell_type": "markdown",
      "source": [
        "# 5. Maiúsculas e Minúsculas\n",
        "Peça uma frase e exiba:\n",
        "\n",
        "Toda em letras maiúsculas\n",
        "Toda em letras minúsculas\n",
        "Somente a primeira letra maiúscula"
      ],
      "metadata": {
        "id": "5THruxanGpUj"
      }
    },
    {
      "cell_type": "code",
      "source": [
        "maiuscula = \"EDUardo\"\n",
        "print(maiuscula.lower())"
      ],
      "metadata": {
        "colab": {
          "base_uri": "https://localhost:8080/"
        },
        "id": "ArBmKFAB_Io1",
        "outputId": "a8ff1afd-ba3b-494e-b3c1-9720a42138ec"
      },
      "execution_count": 24,
      "outputs": [
        {
          "output_type": "stream",
          "name": "stdout",
          "text": [
            "eduardo\n"
          ]
        }
      ]
    },
    {
      "cell_type": "code",
      "source": [
        "maiuscula = \"EDUardo\"\n",
        "print(maiuscula.capitalize())"
      ],
      "metadata": {
        "colab": {
          "base_uri": "https://localhost:8080/"
        },
        "id": "XYTkWah2_Otr",
        "outputId": "3b6bbb55-1e1a-4f03-9a5c-c0d28fb87ffa"
      },
      "execution_count": 25,
      "outputs": [
        {
          "output_type": "stream",
          "name": "stdout",
          "text": [
            "Eduardo\n"
          ]
        }
      ]
    },
    {
      "cell_type": "markdown",
      "source": [
        "# 6. Detectando Palavras\n",
        "Peça uma frase e uma palavra. Diga se essa palavra está presente na frase e em qual posição ela aparece pela primeira vez."
      ],
      "metadata": {
        "id": "1vK-X5iyGwMd"
      }
    },
    {
      "cell_type": "code",
      "source": [
        "frase = input(\"Digite uma frase: \").lower() #O uso da função \"lower\" serve para converter tudo para minusculo\n",
        "palavra = input(\"Digite uma palavra: \").lower()\n",
        "\n",
        "if palavra in frase:\n",
        "  posicao = frase.find(palavra)\n",
        "  print(f'A palavra {palavra} está na frase na posição {posicao}.')\n",
        "else:\n",
        "  print(f'A palavra {palavra} não está na frase.')"
      ],
      "metadata": {
        "colab": {
          "base_uri": "https://localhost:8080/"
        },
        "id": "IkCf3D2o_dMZ",
        "outputId": "b63443d7-40f1-468e-e18c-0c8c9f9081ef"
      },
      "execution_count": 28,
      "outputs": [
        {
          "output_type": "stream",
          "name": "stdout",
          "text": [
            "Digite uma frase: A Vida é uma Arte!\n",
            "Digite uma palavra: arte\n",
            "A palavra arte está na frase na posição 13.\n"
          ]
        }
      ]
    },
    {
      "cell_type": "markdown",
      "source": [
        "# 7.Conversor de temperaturas\n",
        "Peça ao aluno para criar um programa que receba uma temperatura em Celsius e converta para Fahrenheit e Kelvin.\n",
        "\n",
        "Fórmulas:\n",
        "Fahrenheit = (C × 9/5) + 32\n",
        "Kelvin = C + 273.15"
      ],
      "metadata": {
        "id": "JA7VUagQG3QQ"
      }
    },
    {
      "cell_type": "code",
      "source": [
        "tempraturaC = int(input(\"Digite a temperatura em ºC: \"))\n",
        "\n",
        "Fahrenheit = (tempraturaC * 9/5) +32\n",
        "Kelvin = (tempraturaC +273.15 )\n",
        "\n",
        "print(f'A temperatura {tempraturaC}ºC, temperatura {Fahrenheit}ºF e temperatura {Kelvin}ºK')"
      ],
      "metadata": {
        "colab": {
          "base_uri": "https://localhost:8080/"
        },
        "id": "yiLB1LcvBQI-",
        "outputId": "e89d9fb6-0e0c-4002-884a-31735b868975"
      },
      "execution_count": 29,
      "outputs": [
        {
          "output_type": "stream",
          "name": "stdout",
          "text": [
            "Digite a temperatura em ºC: 12\n",
            "A temperatura 12ºC, temperatura 53.6ºF e temperatura 285.15ºK\n"
          ]
        }
      ]
    },
    {
      "cell_type": "markdown",
      "source": [
        "# 8.Calculadora com funções\n",
        "Crie uma função para somar dois numeros somar(x,y) e peça para o usuário informar dois números para serem somados."
      ],
      "metadata": {
        "id": "ChdhzEy2HD_M"
      }
    },
    {
      "cell_type": "code",
      "source": [
        "def somar(x, y):\n",
        "  return x + y\n",
        "\n",
        "num1 = int(input(\"Digite um número: \"))\n",
        "num2 = int(input(\"Digite outro número: \"))\n",
        "\n",
        "result = somar(num1, num2)\n",
        "\n",
        "print(f'A soma dos número é:  {result}')"
      ],
      "metadata": {
        "colab": {
          "base_uri": "https://localhost:8080/"
        },
        "id": "VCfFM38gDs7U",
        "outputId": "9a399202-ec52-441f-bfdf-37134bf86946"
      },
      "execution_count": 32,
      "outputs": [
        {
          "output_type": "stream",
          "name": "stdout",
          "text": [
            "Digite um número: 2\n",
            "Digite outro número: 2\n",
            "A soma dos número é:  4\n"
          ]
        }
      ]
    },
    {
      "cell_type": "markdown",
      "source": [
        "# 9.Verificador de Idade para Voto:\n",
        "Pergunte a idade do usuário.\n",
        "Armazene a idade em uma variável.\n",
        "Usando operadores relacionais e lógicos, imprima True se a pessoa tiver idade para votar (16 anos ou mais) e False caso contrário. Não use if/else ainda, apenas a expressão lógica.\n",
        "\n"
      ],
      "metadata": {
        "id": "CvQpcdoZHKF4"
      }
    },
    {
      "cell_type": "code",
      "source": [
        "idade = int(input(\"Digite sua idade: \"))\n",
        "print(idade >= 16)"
      ],
      "metadata": {
        "colab": {
          "base_uri": "https://localhost:8080/"
        },
        "id": "tqoFCII4E3sr",
        "outputId": "fdd2e1c3-26c1-43ab-95f9-7f28059648b9"
      },
      "execution_count": 36,
      "outputs": [
        {
          "output_type": "stream",
          "name": "stdout",
          "text": [
            "Digite sua idade: 16\n",
            "True\n"
          ]
        }
      ]
    }
  ]
}